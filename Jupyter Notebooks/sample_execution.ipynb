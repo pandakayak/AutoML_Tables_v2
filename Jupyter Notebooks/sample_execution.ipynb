{
 "cells": [
  {
   "cell_type": "markdown",
   "metadata": {},
   "source": [
    "# dataset.py"
   ]
  },
  {
   "cell_type": "markdown",
   "metadata": {},
   "source": [
    "### Command to create an empty dataset in AutoML dataset"
   ]
  },
  {
   "cell_type": "code",
   "execution_count": 44,
   "metadata": {},
   "outputs": [
    {
     "name": "stdout",
     "output_type": "stream",
     "text": [
      "Dataset name: projects/401832599639/locations/us-central1/datasets/TBL2048777190639665152\n",
      "Dataset id: TBL2048777190639665152\n",
      "Dataset display name: train\n",
      "Dataset metadata:\n",
      "\tstats_update_time {\n",
      "}\n",
      "\n",
      "Dataset example count: 0\n",
      "Dataset create time:\n",
      "\tseconds: 1564459116\n",
      "\tnanos: 304512000\n"
     ]
    }
   ],
   "source": [
    "! python dataset.py create_dataset --dataset_name train"
   ]
  },
  {
   "cell_type": "markdown",
   "metadata": {},
   "source": [
    "### Command to list of existing dataset info in AutoML dataset"
   ]
  },
  {
   "cell_type": "code",
   "execution_count": null,
   "metadata": {},
   "outputs": [],
   "source": [
    "! python dataset.py list_datasets"
   ]
  },
  {
   "cell_type": "markdown",
   "metadata": {},
   "source": [
    "### Command to import new data into an existing empty AutoML dataset"
   ]
  },
  {
   "cell_type": "code",
   "execution_count": 45,
   "metadata": {},
   "outputs": [
    {
     "name": "stdout",
     "output_type": "stream",
     "text": [
      "Processing import...\n",
      "Data imported. \n"
     ]
    }
   ],
   "source": [
    "! python dataset.py import_data --dataset_id TBL2048777190639665152 --path \"bq://hackathon1-183523.demo3_v2.train\""
   ]
  },
  {
   "cell_type": "markdown",
   "metadata": {},
   "source": [
    "### Command to list of existing dataset info in AutoML, to make sure the import is successful"
   ]
  },
  {
   "cell_type": "code",
   "execution_count": null,
   "metadata": {},
   "outputs": [],
   "source": [
    "! python dataset.py list_datasets"
   ]
  },
  {
   "cell_type": "markdown",
   "metadata": {},
   "source": [
    "### Schema review"
   ]
  },
  {
   "cell_type": "code",
   "execution_count": 46,
   "metadata": {},
   "outputs": [
    {
     "name": "stdout",
     "output_type": "stream",
     "text": [
      "Feature name:start_month\n",
      "Feature name:FLOAT64\n",
      "\n",
      "Feature name:dayOfWeek\n",
      "Feature name:CATEGORY\n",
      "\n",
      "Feature name:start_hour\n",
      "Feature name:FLOAT64\n",
      "\n",
      "Feature name:pickup_longitude\n",
      "Feature name:FLOAT64\n",
      "\n",
      "Feature name:price_per_mile\n",
      "Feature name:FLOAT64\n",
      "\n",
      "Feature name:trip_miles\n",
      "Feature name:FLOAT64\n",
      "\n",
      "Feature name:dropoff_longitude\n",
      "Feature name:FLOAT64\n",
      "\n",
      "Feature name:dayOfYear\n",
      "Feature name:FLOAT64\n",
      "\n",
      "Feature name:trip_seconds\n",
      "Feature name:FLOAT64\n",
      "\n",
      "Feature name:pickup_latitude\n",
      "Feature name:FLOAT64\n",
      "\n",
      "Feature name:dropoff_latitude\n",
      "Feature name:FLOAT64\n",
      "\n"
     ]
    }
   ],
   "source": [
    "! python dataset.py schema_review --dataset_name \"projects/401832599639/locations/us-central1/datasets/TBL2048777190639665152\""
   ]
  },
  {
   "cell_type": "markdown",
   "metadata": {},
   "source": [
    "### list table spec id of the dataset"
   ]
  },
  {
   "cell_type": "code",
   "execution_count": 48,
   "metadata": {},
   "outputs": [
    {
     "name": "stdout",
     "output_type": "stream",
     "text": [
      "List of table specs:\n",
      "Table spec name: projects/401832599639/locations/us-central1/datasets/TBL2048777190639665152/tableSpecs/873927026128453632\n",
      "Table spec id: 873927026128453632\n",
      "Table spec time column spec id: \n",
      "Table spec row count: 27589\n",
      "Table spec column count: 11\n"
     ]
    }
   ],
   "source": [
    "! python dataset.py list_table_specs --dataset_id TBL2048777190639665152"
   ]
  },
  {
   "cell_type": "markdown",
   "metadata": {},
   "source": [
    "### list each column spec info in the table"
   ]
  },
  {
   "cell_type": "code",
   "execution_count": 55,
   "metadata": {},
   "outputs": [
    {
     "name": "stdout",
     "output_type": "stream",
     "text": [
      "List of column specs:\n",
      "Column spec name: projects/401832599639/locations/us-central1/datasets/TBL2048777190639665152/tableSpecs/873927026128453632/columnSpecs/8535310854332088320\n",
      "Column spec id: 8535310854332088320\n",
      "Column spec display name: trip_miles\n",
      "Column spec data type: type_code: FLOAT64\n",
      "\n",
      "Column spec name: projects/401832599639/locations/us-central1/datasets/TBL2048777190639665152/tableSpecs/873927026128453632/columnSpecs/6805928597421817856\n",
      "Column spec id: 6805928597421817856\n",
      "Column spec display name: pickup_latitude\n",
      "Column spec data type: type_code: FLOAT64\n",
      "\n",
      "Column spec name: projects/401832599639/locations/us-central1/datasets/TBL2048777190639665152/tableSpecs/873927026128453632/columnSpecs/3347164083601276928\n",
      "Column spec id: 3347164083601276928\n",
      "Column spec display name: pickup_longitude\n",
      "Column spec data type: type_code: FLOAT64\n",
      "\n",
      "Column spec name: projects/401832599639/locations/us-central1/datasets/TBL2048777190639665152/tableSpecs/873927026128453632/columnSpecs/2194242578994429952\n",
      "Column spec id: 2194242578994429952\n",
      "Column spec display name: dropoff_latitude\n",
      "Column spec data type: type_code: FLOAT64\n",
      "\n",
      "Column spec name: projects/401832599639/locations/us-central1/datasets/TBL2048777190639665152/tableSpecs/873927026128453632/columnSpecs/5653007092814970880\n",
      "Column spec id: 5653007092814970880\n",
      "Column spec display name: dropoff_longitude\n",
      "Column spec data type: type_code: FLOAT64\n",
      "\n",
      "Column spec name: projects/401832599639/locations/us-central1/datasets/TBL2048777190639665152/tableSpecs/873927026128453632/columnSpecs/3923624835904700416\n",
      "Column spec id: 3923624835904700416\n",
      "Column spec display name: start_month\n",
      "Column spec data type: type_code: FLOAT64\n",
      "\n",
      "Column spec name: projects/401832599639/locations/us-central1/datasets/TBL2048777190639665152/tableSpecs/873927026128453632/columnSpecs/4500085588208123904\n",
      "Column spec id: 4500085588208123904\n",
      "Column spec display name: start_hour\n",
      "Column spec data type: type_code: FLOAT64\n",
      "\n",
      "Column spec name: projects/401832599639/locations/us-central1/datasets/TBL2048777190639665152/tableSpecs/873927026128453632/columnSpecs/104572351894519808\n",
      "Column spec id: 104572351894519808\n",
      "Column spec display name: dayOfWeek\n",
      "Column spec data type: type_code: CATEGORY\n",
      "\n",
      "Column spec name: projects/401832599639/locations/us-central1/datasets/TBL2048777190639665152/tableSpecs/873927026128453632/columnSpecs/7958850102028664832\n",
      "Column spec id: 7958850102028664832\n",
      "Column spec display name: trip_seconds\n",
      "Column spec data type: type_code: FLOAT64\n",
      "\n",
      "Column spec name: projects/401832599639/locations/us-central1/datasets/TBL2048777190639665152/tableSpecs/873927026128453632/columnSpecs/1041321074387582976\n",
      "Column spec id: 1041321074387582976\n",
      "Column spec display name: dayOfYear\n",
      "Column spec data type: type_code: FLOAT64\n",
      "\n",
      "Column spec name: projects/401832599639/locations/us-central1/datasets/TBL2048777190639665152/tableSpecs/873927026128453632/columnSpecs/9111771606635511808\n",
      "Column spec id: 9111771606635511808\n",
      "Column spec display name: price_per_mile\n",
      "Column spec data type: type_code: FLOAT64\n",
      "\n",
      "target_column_spec_id: 9111771606635511808\n"
     ]
    }
   ],
   "source": [
    "! python dataset.py list_column_specs --dataset_id TBL2048777190639665152 --table_spec_id 873927026128453632"
   ]
  },
  {
   "cell_type": "markdown",
   "metadata": {},
   "source": [
    "### get dataset"
   ]
  },
  {
   "cell_type": "code",
   "execution_count": 56,
   "metadata": {},
   "outputs": [
    {
     "name": "stdout",
     "output_type": "stream",
     "text": [
      "Dataset name: projects/401832599639/locations/us-central1/datasets/TBL2048777190639665152\n",
      "Dataset id: TBL2048777190639665152\n",
      "Dataset display name: train\n",
      "Dataset metadata:\n",
      "\tprimary_table_spec_id: \"873927026128453632\"\n",
      "stats_update_time {\n",
      "  seconds: 1564459274\n",
      "  nanos: 999000000\n",
      "}\n",
      "\n",
      "Dataset example count: 27589\n",
      "Dataset create time:\n",
      "\tseconds: 1564459116\n",
      "\tnanos: 304512000\n"
     ]
    }
   ],
   "source": [
    "! python dataset.py get_dataset --dataset_id TBL2048777190639665152"
   ]
  },
  {
   "cell_type": "markdown",
   "metadata": {},
   "source": [
    "### get table spec info"
   ]
  },
  {
   "cell_type": "code",
   "execution_count": 57,
   "metadata": {},
   "outputs": [
    {
     "name": "stdout",
     "output_type": "stream",
     "text": [
      "Table spec name: projects/401832599639/locations/us-central1/datasets/TBL2048777190639665152/tableSpecs/873927026128453632\n",
      "Table spec id: 873927026128453632\n",
      "Table spec time column spec id: \n",
      "Table spec row count: 27589\n",
      "Table spec column count: 11\n"
     ]
    }
   ],
   "source": [
    "! python dataset.py get_table_spec --dataset_id TBL2048777190639665152 --table_spec_id 873927026128453632"
   ]
  },
  {
   "cell_type": "markdown",
   "metadata": {},
   "source": [
    "### get column spec id"
   ]
  },
  {
   "cell_type": "code",
   "execution_count": 58,
   "metadata": {},
   "outputs": [
    {
     "name": "stdout",
     "output_type": "stream",
     "text": [
      "Column spec name: projects/401832599639/locations/us-central1/datasets/TBL2048777190639665152/tableSpecs/873927026128453632/columnSpecs/9111771606635511808\n",
      "Column spec id: 9111771606635511808\n",
      "Column spec display name: price_per_mile\n",
      "Column spec data type: type_code: FLOAT64\n",
      "\n",
      "Column spec data stats: distinct_value_count: 3249\n",
      "float64_stats {\n",
      "  mean: 6.26339242877\n",
      "  standard_deviation: 4.0244233649\n",
      "  quantiles: 0.00172413793103\n",
      "  quantiles: 4.14746543779\n",
      "  quantiles: 5.38461538462\n",
      "  quantiles: 6.875\n",
      "  quantiles: 95.0\n",
      "  histogram_buckets {\n",
      "    min: -inf\n",
      "    max: 9.50155172414\n",
      "    count: 25103\n",
      "  }\n",
      "  histogram_buckets {\n",
      "    min: 9.50155172414\n",
      "    max: 19.0013793103\n",
      "    count: 2239\n",
      "  }\n",
      "  histogram_buckets {\n",
      "    min: 19.0013793103\n",
      "    max: 28.5012068966\n",
      "    count: 118\n",
      "  }\n",
      "  histogram_buckets {\n",
      "    min: 28.5012068966\n",
      "    max: 38.0010344828\n",
      "    count: 67\n",
      "  }\n",
      "  histogram_buckets {\n",
      "    min: 38.0010344828\n",
      "    max: 47.500862069\n",
      "    count: 15\n",
      "  }\n",
      "  histogram_buckets {\n",
      "    min: 47.500862069\n",
      "    max: 57.0006896552\n",
      "    count: 11\n",
      "  }\n",
      "  histogram_buckets {\n",
      "    min: 57.0006896552\n",
      "    max: 66.5005172414\n",
      "    count: 17\n",
      "  }\n",
      "  histogram_buckets {\n",
      "    min: 66.5005172414\n",
      "    max: 76.0003448276\n",
      "    count: 6\n",
      "  }\n",
      "  histogram_buckets {\n",
      "    min: 76.0003448276\n",
      "    max: 85.5001724138\n",
      "    count: 10\n",
      "  }\n",
      "  histogram_buckets {\n",
      "    min: 85.5001724138\n",
      "    max: inf\n",
      "    count: 3\n",
      "  }\n",
      "}\n",
      "valid_value_count: 27589\n",
      "\n",
      "Column spec top correlated columns\n",
      "\n"
     ]
    }
   ],
   "source": [
    "! python dataset.py get_column_spec --dataset_id TBL2048777190639665152 --table_spec_id 873927026128453632 --column_spec_id 9111771606635511808"
   ]
  },
  {
   "cell_type": "markdown",
   "metadata": {},
   "source": [
    "### set target column"
   ]
  },
  {
   "cell_type": "code",
   "execution_count": 59,
   "metadata": {},
   "outputs": [
    {
     "name": "stdout",
     "output_type": "stream",
     "text": [
      "Dataset updated. name: \"projects/401832599639/locations/us-central1/datasets/TBL2048777190639665152\"\n",
      "display_name: \"train\"\n",
      "create_time {\n",
      "  seconds: 1564459116\n",
      "  nanos: 304512000\n",
      "}\n",
      "etag: \"AB3BwFodyMqXuysx0ztQQZFkfF-8Xx0u-shoseTLC9Ak3xqMTYC15mzgbsybMI1gHuw=\"\n",
      "example_count: 27589\n",
      "tables_dataset_metadata {\n",
      "  primary_table_spec_id: \"873927026128453632\"\n",
      "  target_column_spec_id: \"9111771606635511808\"\n",
      "  stats_update_time {\n",
      "    seconds: 1564459274\n",
      "    nanos: 999000000\n",
      "  }\n",
      "}\n",
      "\n"
     ]
    }
   ],
   "source": [
    "! python dataset.py update_dataset --dataset_id TB L2048777190639665152 --target_column_spec_id 9111771606635511808"
   ]
  },
  {
   "cell_type": "markdown",
   "metadata": {},
   "source": [
    "# model.py"
   ]
  },
  {
   "cell_type": "markdown",
   "metadata": {},
   "source": [
    "### list existing model"
   ]
  },
  {
   "cell_type": "code",
   "execution_count": 61,
   "metadata": {},
   "outputs": [
    {
     "name": "stdout",
     "output_type": "stream",
     "text": [
      "List of models:\n",
      "Model name: projects/401832599639/locations/us-central1/models/TBL2266814744474157056\n",
      "Model id: TBL2266814744474157056\n",
      "Model display name: demo3_v2\n",
      "Target column display name: price_per_mile\n",
      "Training budget in node milli hours: 5000\n",
      "Training cost in node milli hours: 1896\n",
      "Model create time:\n",
      "\tseconds: 1563997966\n",
      "\tnanos: 318460000\n",
      "Model deployment state: undeployed\n",
      "\n",
      "\n",
      "Model name: projects/401832599639/locations/us-central1/models/TBL1843194904524619776\n",
      "Model id: TBL1843194904524619776\n",
      "Model display name: demo3_v2_20190719114017\n",
      "Target column display name: price_per_mile\n",
      "Training budget in node milli hours: 6000\n",
      "Training cost in node milli hours: 2108\n",
      "Model create time:\n",
      "\tseconds: 1563604863\n",
      "\tnanos: 376318000\n",
      "Model deployment state: undeployed\n",
      "\n",
      "\n",
      "Model name: projects/401832599639/locations/us-central1/models/TBL4988132411498823680\n",
      "Model id: TBL4988132411498823680\n",
      "Model display name: demo3_model\n",
      "Target column display name: fare_dollars\n",
      "Training budget in node milli hours: 5000\n",
      "Training cost in node milli hours: 2188\n",
      "Model create time:\n",
      "\tseconds: 1561593831\n",
      "\tnanos: 861186000\n",
      "Model deployment state: undeployed\n",
      "\n",
      "\n",
      "Model name: projects/401832599639/locations/us-central1/models/TBL3721389463184605184\n",
      "Model id: TBL3721389463184605184\n",
      "Model display name: ct_autoML_20190515051833\n",
      "Target column display name: fare\n",
      "Training budget in node milli hours: 2000\n",
      "Training cost in node milli hours: 2000\n",
      "Model create time:\n",
      "\tseconds: 1557965932\n",
      "\tnanos: 563065000\n",
      "Model deployment state: undeployed\n",
      "\n",
      "\n",
      "Model name: projects/401832599639/locations/us-central1/models/TBL7641491463833911296\n",
      "Model id: TBL7641491463833911296\n",
      "Model display name: bf_autoML_20190515113038\n",
      "Target column display name: log_pt\n",
      "Training budget in node milli hours: 2000\n",
      "Training cost in node milli hours: 767\n",
      "Model create time:\n",
      "\tseconds: 1557945059\n",
      "\tnanos: 757381000\n",
      "Model deployment state: undeployed\n",
      "\n",
      "\n",
      "Model name: projects/401832599639/locations/us-central1/models/TBL5484267242323443712\n",
      "Model id: TBL5484267242323443712\n",
      "Model display name: bf_autoML_20190515093147\n",
      "Target column display name: log_pt\n",
      "Training budget in node milli hours: 2000\n",
      "Training cost in node milli hours: 909\n",
      "Model create time:\n",
      "\tseconds: 1557938190\n",
      "\tnanos: 728925000\n",
      "Model deployment state: undeployed\n",
      "\n",
      "\n"
     ]
    }
   ],
   "source": [
    "! python model.py list_models"
   ]
  },
  {
   "cell_type": "markdown",
   "metadata": {},
   "source": [
    "### training model"
   ]
  },
  {
   "cell_type": "code",
   "execution_count": 62,
   "metadata": {},
   "outputs": [
    {
     "name": "stdout",
     "output_type": "stream",
     "text": [
      "Training model...\n",
      "Training operation name: projects/401832599639/locations/us-central1/operations/TBL8016561268347371520\n",
      "Training completed: name: \"projects/401832599639/locations/us-central1/models/TBL6421666875700150272\"\n",
      "\n"
     ]
    }
   ],
   "source": [
    "! python model.py create_model --dataset_id TBL2048777190639665152 --model_name demo3_v2 --train_budget_milli_node_hours 2000"
   ]
  },
  {
   "cell_type": "markdown",
   "metadata": {},
   "source": [
    "### get status"
   ]
  },
  {
   "cell_type": "code",
   "execution_count": 63,
   "metadata": {},
   "outputs": [
    {
     "name": "stdout",
     "output_type": "stream",
     "text": [
      "Operation status: name: \"projects/401832599639/locations/us-central1/operations/TBL8016561268347371520\"\n",
      "metadata {\n",
      "  type_url: \"type.googleapis.com/google.cloud.automl.v1beta1.OperationMetadata\"\n",
      "  value: \"\\032\\014\\010\\262\\212\\377\\351\\005\\020\\200\\262\\307\\273\\003\\\"\\014\\010\\331\\302\\377\\351\\005\\020\\350\\257\\327\\233\\003R\\000\"\n",
      "}\n",
      "done: true\n",
      "response {\n",
      "  type_url: \"type.googleapis.com/google.cloud.automl.v1beta1.Model\"\n",
      "  value: \"\\nIprojects/401832599639/locations/us-central1/models/TBL6421666875700150272\"\n",
      "}\n",
      "\n"
     ]
    }
   ],
   "source": [
    "! python model.py get_operation_status --operation_full_id \"projects/401832599639/locations/us-central1/operations/TBL8016561268347371520\""
   ]
  },
  {
   "cell_type": "markdown",
   "metadata": {},
   "source": [
    "### list existing model again"
   ]
  },
  {
   "cell_type": "code",
   "execution_count": 64,
   "metadata": {},
   "outputs": [
    {
     "name": "stdout",
     "output_type": "stream",
     "text": [
      "List of models:\n",
      "Model name: projects/401832599639/locations/us-central1/models/TBL6421666875700150272\n",
      "Model id: TBL6421666875700150272\n",
      "Model display name: demo3_v2\n",
      "Target column display name: price_per_mile\n",
      "Training budget in node milli hours: 2000\n",
      "Training cost in node milli hours: 1949\n",
      "Model create time:\n",
      "\tseconds: 1564460338\n",
      "\tnanos: 930208000\n",
      "Model deployment state: undeployed\n",
      "\n",
      "\n"
     ]
    }
   ],
   "source": [
    "! python model.py list_models"
   ]
  },
  {
   "cell_type": "markdown",
   "metadata": {},
   "source": [
    "### get model metadata"
   ]
  },
  {
   "cell_type": "code",
   "execution_count": 65,
   "metadata": {},
   "outputs": [
    {
     "name": "stdout",
     "output_type": "stream",
     "text": [
      "Model name: projects/401832599639/locations/us-central1/models/TBL6421666875700150272\n",
      "Model id: TBL6421666875700150272\n",
      "Model display name: demo3_v2\n",
      "Model metadata:\n",
      "target_column_spec {\n",
      "  name: \"projects/401832599639/locations/us-central1/datasets/TBL2048777190639665152/tableSpecs/873927026128453632/columnSpecs/9111771606635511808\"\n",
      "  data_type {\n",
      "    type_code: FLOAT64\n",
      "  }\n",
      "  display_name: \"price_per_mile\"\n",
      "}\n",
      "input_feature_column_specs {\n",
      "  name: \"projects/401832599639/locations/us-central1/datasets/TBL2048777190639665152/tableSpecs/873927026128453632/columnSpecs/8535310854332088320\"\n",
      "  data_type {\n",
      "    type_code: FLOAT64\n",
      "  }\n",
      "  display_name: \"trip_miles\"\n",
      "}\n",
      "input_feature_column_specs {\n",
      "  name: \"projects/401832599639/locations/us-central1/datasets/TBL2048777190639665152/tableSpecs/873927026128453632/columnSpecs/6805928597421817856\"\n",
      "  data_type {\n",
      "    type_code: FLOAT64\n",
      "  }\n",
      "  display_name: \"pickup_latitude\"\n",
      "}\n",
      "input_feature_column_specs {\n",
      "  name: \"projects/401832599639/locations/us-central1/datasets/TBL2048777190639665152/tableSpecs/873927026128453632/columnSpecs/3347164083601276928\"\n",
      "  data_type {\n",
      "    type_code: FLOAT64\n",
      "  }\n",
      "  display_name: \"pickup_longitude\"\n",
      "}\n",
      "input_feature_column_specs {\n",
      "  name: \"projects/401832599639/locations/us-central1/datasets/TBL2048777190639665152/tableSpecs/873927026128453632/columnSpecs/2194242578994429952\"\n",
      "  data_type {\n",
      "    type_code: FLOAT64\n",
      "  }\n",
      "  display_name: \"dropoff_latitude\"\n",
      "}\n",
      "input_feature_column_specs {\n",
      "  name: \"projects/401832599639/locations/us-central1/datasets/TBL2048777190639665152/tableSpecs/873927026128453632/columnSpecs/5653007092814970880\"\n",
      "  data_type {\n",
      "    type_code: FLOAT64\n",
      "  }\n",
      "  display_name: \"dropoff_longitude\"\n",
      "}\n",
      "input_feature_column_specs {\n",
      "  name: \"projects/401832599639/locations/us-central1/datasets/TBL2048777190639665152/tableSpecs/873927026128453632/columnSpecs/3923624835904700416\"\n",
      "  data_type {\n",
      "    type_code: FLOAT64\n",
      "  }\n",
      "  display_name: \"start_month\"\n",
      "}\n",
      "input_feature_column_specs {\n",
      "  name: \"projects/401832599639/locations/us-central1/datasets/TBL2048777190639665152/tableSpecs/873927026128453632/columnSpecs/4500085588208123904\"\n",
      "  data_type {\n",
      "    type_code: FLOAT64\n",
      "  }\n",
      "  display_name: \"start_hour\"\n",
      "}\n",
      "input_feature_column_specs {\n",
      "  name: \"projects/401832599639/locations/us-central1/datasets/TBL2048777190639665152/tableSpecs/873927026128453632/columnSpecs/104572351894519808\"\n",
      "  data_type {\n",
      "    type_code: CATEGORY\n",
      "  }\n",
      "  display_name: \"dayOfWeek\"\n",
      "}\n",
      "input_feature_column_specs {\n",
      "  name: \"projects/401832599639/locations/us-central1/datasets/TBL2048777190639665152/tableSpecs/873927026128453632/columnSpecs/7958850102028664832\"\n",
      "  data_type {\n",
      "    type_code: FLOAT64\n",
      "  }\n",
      "  display_name: \"trip_seconds\"\n",
      "}\n",
      "input_feature_column_specs {\n",
      "  name: \"projects/401832599639/locations/us-central1/datasets/TBL2048777190639665152/tableSpecs/873927026128453632/columnSpecs/1041321074387582976\"\n",
      "  data_type {\n",
      "    type_code: FLOAT64\n",
      "  }\n",
      "  display_name: \"dayOfYear\"\n",
      "}\n",
      "optimization_objective: \"MINIMIZE_RMSE\"\n",
      "tables_model_column_info {\n",
      "  column_spec_name: \"projects/401832599639/locations/us-central1/datasets/TBL2048777190639665152/tableSpecs/873927026128453632/columnSpecs/5653007092814970880\"\n",
      "  column_display_name: \"dropoff_longitude\"\n",
      "  feature_importance: 0.00614165654406\n",
      "}\n",
      "tables_model_column_info {\n",
      "  column_spec_name: \"projects/401832599639/locations/us-central1/datasets/TBL2048777190639665152/tableSpecs/873927026128453632/columnSpecs/7958850102028664832\"\n",
      "  column_display_name: \"trip_seconds\"\n",
      "  feature_importance: 0.228723555803\n",
      "}\n",
      "tables_model_column_info {\n",
      "  column_spec_name: \"projects/401832599639/locations/us-central1/datasets/TBL2048777190639665152/tableSpecs/873927026128453632/columnSpecs/6805928597421817856\"\n",
      "  column_display_name: \"pickup_latitude\"\n",
      "  feature_importance: 0.00759941898286\n",
      "}\n",
      "tables_model_column_info {\n",
      "  column_spec_name: \"projects/401832599639/locations/us-central1/datasets/TBL2048777190639665152/tableSpecs/873927026128453632/columnSpecs/3923624835904700416\"\n",
      "  column_display_name: \"start_month\"\n",
      "  feature_importance: 0.0120963044465\n",
      "}\n",
      "tables_model_column_info {\n",
      "  column_spec_name: \"projects/401832599639/locations/us-central1/datasets/TBL2048777190639665152/tableSpecs/873927026128453632/columnSpecs/3347164083601276928\"\n",
      "  column_display_name: \"pickup_longitude\"\n",
      "  feature_importance: 0.00472622970119\n",
      "}\n",
      "tables_model_column_info {\n",
      "  column_spec_name: \"projects/401832599639/locations/us-central1/datasets/TBL2048777190639665152/tableSpecs/873927026128453632/columnSpecs/4500085588208123904\"\n",
      "  column_display_name: \"start_hour\"\n",
      "  feature_importance: 0.0040819812566\n",
      "}\n",
      "tables_model_column_info {\n",
      "  column_spec_name: \"projects/401832599639/locations/us-central1/datasets/TBL2048777190639665152/tableSpecs/873927026128453632/columnSpecs/2194242578994429952\"\n",
      "  column_display_name: \"dropoff_latitude\"\n",
      "  feature_importance: 0.0146663384512\n",
      "}\n",
      "tables_model_column_info {\n",
      "  column_spec_name: \"projects/401832599639/locations/us-central1/datasets/TBL2048777190639665152/tableSpecs/873927026128453632/columnSpecs/104572351894519808\"\n",
      "  column_display_name: \"dayOfWeek\"\n",
      "  feature_importance: 0.00144186883699\n",
      "}\n",
      "tables_model_column_info {\n",
      "  column_spec_name: \"projects/401832599639/locations/us-central1/datasets/TBL2048777190639665152/tableSpecs/873927026128453632/columnSpecs/1041321074387582976\"\n",
      "  column_display_name: \"dayOfYear\"\n",
      "  feature_importance: 0.00862044561654\n",
      "}\n",
      "tables_model_column_info {\n",
      "  column_spec_name: \"projects/401832599639/locations/us-central1/datasets/TBL2048777190639665152/tableSpecs/873927026128453632/columnSpecs/8535310854332088320\"\n",
      "  column_display_name: \"trip_miles\"\n",
      "  feature_importance: 0.711902201176\n",
      "}\n",
      "train_budget_milli_node_hours: 2000\n",
      "train_cost_milli_node_hours: 1949\n",
      "\n",
      "Model create time:\n",
      "\tseconds: 1564460338\n",
      "\tnanos: 930208000\n",
      "Model deployment state: undeployed\n"
     ]
    }
   ],
   "source": [
    "! python model.py get_model --model_id TBL6421666875700150272"
   ]
  },
  {
   "cell_type": "markdown",
   "metadata": {},
   "source": [
    "### list existing model eval"
   ]
  },
  {
   "cell_type": "code",
   "execution_count": 66,
   "metadata": {},
   "outputs": [
    {
     "name": "stdout",
     "output_type": "stream",
     "text": [
      "List of model evaluations:\n",
      "Model evaluation name: projects/401832599639/locations/us-central1/models/TBL6421666875700150272/modelEvaluations/6111684240868882258\n",
      "Model evaluation id: 6111684240868882258\n",
      "Model evaluation example count: 2730\n",
      "Model evaluation time:\n",
      "\tseconds: 1564467545\n",
      "\tnanos: 763450000\n",
      "\n",
      "\n"
     ]
    }
   ],
   "source": [
    "! python model.py list_model_evaluations --model_id TBL6421666875700150272"
   ]
  },
  {
   "cell_type": "markdown",
   "metadata": {},
   "source": [
    "### get evaluation"
   ]
  },
  {
   "cell_type": "code",
   "execution_count": 67,
   "metadata": {},
   "outputs": [
    {
     "name": "stdout",
     "output_type": "stream",
     "text": [
      "name: \"projects/401832599639/locations/us-central1/models/TBL6421666875700150272/modelEvaluations/6111684240868882258\"\n",
      "create_time {\n",
      "  seconds: 1564467545\n",
      "  nanos: 763450000\n",
      "}\n",
      "evaluated_example_count: 2730\n",
      "\n"
     ]
    }
   ],
   "source": [
    "! python model.py get_model_evaluation --model_id TBL6421666875700150272 --model_evaluation_id 6111684240868882258"
   ]
  },
  {
   "cell_type": "markdown",
   "metadata": {},
   "source": [
    "### display evaluation"
   ]
  },
  {
   "cell_type": "code",
   "execution_count": 68,
   "metadata": {},
   "outputs": [
    {
     "name": "stdout",
     "output_type": "stream",
     "text": [
      "Model regression metrics:\n",
      "Model RMSE: 0.673336327076\n",
      "Model MAE: 0.191971749067\n",
      "Model MAPE: 2.98208236694\n",
      "Model R^2: 0.968206346035\n"
     ]
    }
   ],
   "source": [
    "! python model.py display_evaluation --model_id TBL6421666875700150272"
   ]
  },
  {
   "cell_type": "markdown",
   "metadata": {},
   "source": [
    "### deploy"
   ]
  },
  {
   "cell_type": "code",
   "execution_count": 84,
   "metadata": {},
   "outputs": [
    {
     "name": "stdout",
     "output_type": "stream",
     "text": [
      "Model deployed.\n"
     ]
    }
   ],
   "source": [
    "! python model.py deploy_model --model_id TBL6421666875700150272"
   ]
  },
  {
   "cell_type": "markdown",
   "metadata": {},
   "source": [
    "# predict.py"
   ]
  },
  {
   "cell_type": "markdown",
   "metadata": {},
   "source": [
    "### batch prediction"
   ]
  },
  {
   "cell_type": "code",
   "execution_count": 70,
   "metadata": {},
   "outputs": [
    {
     "name": "stdout",
     "output_type": "stream",
     "text": [
      "Making batch prediction... \n",
      "Batch prediction complete.\n",
      "create_time {\n",
      "  seconds: 1564467863\n",
      "  nanos: 139172000\n",
      "}\n",
      "update_time {\n",
      "  seconds: 1564468144\n",
      "  nanos: 960466000\n",
      "}\n",
      "batch_predict_details {\n",
      "  input_config {\n",
      "    bigquery_source {\n",
      "      input_uri: \"bq://hackathon1-183523.demo3_v2.test\"\n",
      "    }\n",
      "  }\n",
      "  output_info {\n",
      "    bigquery_output_dataset: \"bq://hackathon1-183523.prediction_demo3_v2_2019_07_29T23_24_23_105Z\"\n",
      "  }\n",
      "}\n",
      "\n"
     ]
    }
   ],
   "source": [
    "! python predict.py batch_predict --model_id TBL6421666875700150272 --input_path \"bq://hackathon1-183523.demo3_v2.test\" --output_path \"bq://hackathon1-183523\""
   ]
  },
  {
   "cell_type": "markdown",
   "metadata": {},
   "source": [
    "### online prediction"
   ]
  },
  {
   "cell_type": "code",
   "execution_count": 83,
   "metadata": {},
   "outputs": [
    {
     "name": "stdout",
     "output_type": "stream",
     "text": [
      "{'payload': {'row': {'values': [1.4, 41.880994471, -87.632746489, 41.89321636, -87.63784421, 1.0, 5.0, 3.0, 614.0, 16.0]}}}\n",
      "{\n",
      "  \"payload\": [\n",
      "    {\n",
      "      \"tables\": {\n",
      "        \"value\": 5.6498265266418457,\n",
      "        \"predictionInterval\": {\n",
      "          \"start\": 5.0159544944763184,\n",
      "          \"end\": 10.733982086181641\n",
      "        }\n",
      "      }\n",
      "    }\n",
      "  ]\n",
      "}\n",
      "0\n",
      "{'payload': {'row': {'values': [1.11, 41.892042136, -87.63186395, 41.900221297, -87.629105186, 5.0, 19.0, 6.0, 597.0, 138.0]}}}\n",
      "{\n",
      "  \"payload\": [\n",
      "    {\n",
      "      \"tables\": {\n",
      "        \"value\": 6.6522116661071777,\n",
      "        \"predictionInterval\": {\n",
      "          \"start\": 5.19624137878418,\n",
      "          \"end\": 10.733982086181641\n",
      "        }\n",
      "      }\n",
      "    }\n",
      "  ]\n",
      "}\n",
      "0\n",
      "Done prepare payload for online prediction.\n"
     ]
    }
   ],
   "source": [
    "! python predict.py predict --model_id TBL6421666875700150272 --file_path 'test.csv'"
   ]
  },
  {
   "cell_type": "code",
   "execution_count": 80,
   "metadata": {},
   "outputs": [
    {
     "name": "stdout",
     "output_type": "stream",
     "text": [
      "{\n",
      "  \"payload\": [\n",
      "    {\n",
      "      \"tables\": {\n",
      "        \"value\": 8.3914804458618164,\n",
      "        \"predictionInterval\": {\n",
      "          \"start\": 6.6885089874267578,\n",
      "          \"end\": 12.913139343261719\n",
      "        }\n",
      "      }\n",
      "    }\n",
      "  ]\n",
      "}\n"
     ]
    }
   ],
   "source": [
    "! curl -X POST -H \"Content-Type: application/json\" \\\n",
    "  -H \"Authorization: Bearer $(gcloud auth application-default print-access-token)\" \\\n",
    "  https://automl.googleapis.com/v1beta1/projects/hackathon1-183523/locations/us-central1/models/TBL6421666875700150272:predict \\\n",
    "  -d @request.json"
   ]
  },
  {
   "cell_type": "code",
   "execution_count": null,
   "metadata": {},
   "outputs": [],
   "source": []
  }
 ],
 "metadata": {
  "kernelspec": {
   "display_name": "Python 3",
   "language": "python",
   "name": "python3"
  },
  "language_info": {
   "codemirror_mode": {
    "name": "ipython",
    "version": 3
   },
   "file_extension": ".py",
   "mimetype": "text/x-python",
   "name": "python",
   "nbconvert_exporter": "python",
   "pygments_lexer": "ipython3",
   "version": "3.5.3"
  }
 },
 "nbformat": 4,
 "nbformat_minor": 2
}
