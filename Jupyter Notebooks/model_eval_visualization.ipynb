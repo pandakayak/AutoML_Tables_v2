{
 "cells": [
  {
   "cell_type": "code",
   "execution_count": 18,
   "metadata": {},
   "outputs": [],
   "source": [
    "from google.cloud import bigquery\n",
    "import numpy as np\n",
    "import pandas as pd\n",
    "import matplotlib.pyplot as plt\n",
    "import seaborn as sns\n",
    "sns.set_style(\"whitegrid\")\n",
    "sns.set_palette(\"muted\")\n",
    "get_ipython().run_line_magic('matplotlib', 'inline')\n",
    "import warnings\n",
    "warnings.filterwarnings('ignore')\n",
    "from sklearn.metrics import mean_absolute_error\n",
    "from sklearn.metrics import mean_squared_error\n",
    "from sklearn.metrics import r2_score"
   ]
  },
  {
   "cell_type": "code",
   "execution_count": 3,
   "metadata": {},
   "outputs": [],
   "source": [
    "%%bigquery batch_pred\n",
    "SELECT\n",
    "    *\n",
    "FROM \n",
    "`prediction_demo3_v2_2019_07_29T23_43_46_125Z.predictions`"
   ]
  },
  {
   "cell_type": "code",
   "execution_count": 5,
   "metadata": {},
   "outputs": [
    {
     "data": {
      "text/html": [
       "<div>\n",
       "<style scoped>\n",
       "    .dataframe tbody tr th:only-of-type {\n",
       "        vertical-align: middle;\n",
       "    }\n",
       "\n",
       "    .dataframe tbody tr th {\n",
       "        vertical-align: top;\n",
       "    }\n",
       "\n",
       "    .dataframe thead th {\n",
       "        text-align: right;\n",
       "    }\n",
       "</style>\n",
       "<table border=\"1\" class=\"dataframe\">\n",
       "  <thead>\n",
       "    <tr style=\"text-align: right;\">\n",
       "      <th></th>\n",
       "      <th>trip_miles</th>\n",
       "      <th>pickup_latitude</th>\n",
       "      <th>pickup_longitude</th>\n",
       "      <th>dropoff_latitude</th>\n",
       "      <th>dropoff_longitude</th>\n",
       "      <th>start_month</th>\n",
       "      <th>start_hour</th>\n",
       "      <th>dayOfWeek</th>\n",
       "      <th>trip_seconds</th>\n",
       "      <th>dayOfYear</th>\n",
       "      <th>price_per_mile</th>\n",
       "      <th>predicted_price_per_mile</th>\n",
       "    </tr>\n",
       "  </thead>\n",
       "  <tbody>\n",
       "    <tr>\n",
       "      <th>0</th>\n",
       "      <td>0.90</td>\n",
       "      <td>41.857184</td>\n",
       "      <td>-87.620335</td>\n",
       "      <td>41.857184</td>\n",
       "      <td>-87.620335</td>\n",
       "      <td>2.0</td>\n",
       "      <td>11.0</td>\n",
       "      <td>4</td>\n",
       "      <td>180.0</td>\n",
       "      <td>38.0</td>\n",
       "      <td>6.111111</td>\n",
       "      <td>[{'tables': {'prediction_interval': {'start': ...</td>\n",
       "    </tr>\n",
       "    <tr>\n",
       "      <th>1</th>\n",
       "      <td>1.90</td>\n",
       "      <td>41.857184</td>\n",
       "      <td>-87.620335</td>\n",
       "      <td>41.878866</td>\n",
       "      <td>-87.625192</td>\n",
       "      <td>6.0</td>\n",
       "      <td>3.0</td>\n",
       "      <td>3</td>\n",
       "      <td>600.0</td>\n",
       "      <td>156.0</td>\n",
       "      <td>4.736842</td>\n",
       "      <td>[{'tables': {'prediction_interval': {'start': ...</td>\n",
       "    </tr>\n",
       "    <tr>\n",
       "      <th>2</th>\n",
       "      <td>2.40</td>\n",
       "      <td>41.849247</td>\n",
       "      <td>-87.624135</td>\n",
       "      <td>41.877406</td>\n",
       "      <td>-87.621972</td>\n",
       "      <td>4.0</td>\n",
       "      <td>12.0</td>\n",
       "      <td>4</td>\n",
       "      <td>1111.0</td>\n",
       "      <td>94.0</td>\n",
       "      <td>4.791667</td>\n",
       "      <td>[{'tables': {'prediction_interval': {'start': ...</td>\n",
       "    </tr>\n",
       "    <tr>\n",
       "      <th>3</th>\n",
       "      <td>2.42</td>\n",
       "      <td>41.849247</td>\n",
       "      <td>-87.624135</td>\n",
       "      <td>41.877406</td>\n",
       "      <td>-87.621972</td>\n",
       "      <td>5.0</td>\n",
       "      <td>11.0</td>\n",
       "      <td>4</td>\n",
       "      <td>737.0</td>\n",
       "      <td>150.0</td>\n",
       "      <td>4.132231</td>\n",
       "      <td>[{'tables': {'prediction_interval': {'start': ...</td>\n",
       "    </tr>\n",
       "    <tr>\n",
       "      <th>4</th>\n",
       "      <td>2.20</td>\n",
       "      <td>41.849247</td>\n",
       "      <td>-87.624135</td>\n",
       "      <td>41.877406</td>\n",
       "      <td>-87.621972</td>\n",
       "      <td>6.0</td>\n",
       "      <td>11.0</td>\n",
       "      <td>2</td>\n",
       "      <td>840.0</td>\n",
       "      <td>169.0</td>\n",
       "      <td>4.545455</td>\n",
       "      <td>[{'tables': {'prediction_interval': {'start': ...</td>\n",
       "    </tr>\n",
       "  </tbody>\n",
       "</table>\n",
       "</div>"
      ],
      "text/plain": [
       "   trip_miles  pickup_latitude  pickup_longitude  dropoff_latitude  \\\n",
       "0        0.90        41.857184        -87.620335         41.857184   \n",
       "1        1.90        41.857184        -87.620335         41.878866   \n",
       "2        2.40        41.849247        -87.624135         41.877406   \n",
       "3        2.42        41.849247        -87.624135         41.877406   \n",
       "4        2.20        41.849247        -87.624135         41.877406   \n",
       "\n",
       "   dropoff_longitude  start_month  start_hour dayOfWeek  trip_seconds  \\\n",
       "0         -87.620335          2.0        11.0         4         180.0   \n",
       "1         -87.625192          6.0         3.0         3         600.0   \n",
       "2         -87.621972          4.0        12.0         4        1111.0   \n",
       "3         -87.621972          5.0        11.0         4         737.0   \n",
       "4         -87.621972          6.0        11.0         2         840.0   \n",
       "\n",
       "   dayOfYear  price_per_mile  \\\n",
       "0       38.0        6.111111   \n",
       "1      156.0        4.736842   \n",
       "2       94.0        4.791667   \n",
       "3      150.0        4.132231   \n",
       "4      169.0        4.545455   \n",
       "\n",
       "                            predicted_price_per_mile  \n",
       "0  [{'tables': {'prediction_interval': {'start': ...  \n",
       "1  [{'tables': {'prediction_interval': {'start': ...  \n",
       "2  [{'tables': {'prediction_interval': {'start': ...  \n",
       "3  [{'tables': {'prediction_interval': {'start': ...  \n",
       "4  [{'tables': {'prediction_interval': {'start': ...  "
      ]
     },
     "execution_count": 5,
     "metadata": {},
     "output_type": "execute_result"
    }
   ],
   "source": [
    "batch_pred.head()"
   ]
  },
  {
   "cell_type": "code",
   "execution_count": 10,
   "metadata": {},
   "outputs": [
    {
     "data": {
      "text/html": [
       "<div>\n",
       "<style scoped>\n",
       "    .dataframe tbody tr th:only-of-type {\n",
       "        vertical-align: middle;\n",
       "    }\n",
       "\n",
       "    .dataframe tbody tr th {\n",
       "        vertical-align: top;\n",
       "    }\n",
       "\n",
       "    .dataframe thead th {\n",
       "        text-align: right;\n",
       "    }\n",
       "</style>\n",
       "<table border=\"1\" class=\"dataframe\">\n",
       "  <thead>\n",
       "    <tr style=\"text-align: right;\">\n",
       "      <th></th>\n",
       "      <th>trip_miles</th>\n",
       "      <th>pickup_latitude</th>\n",
       "      <th>pickup_longitude</th>\n",
       "      <th>dropoff_latitude</th>\n",
       "      <th>dropoff_longitude</th>\n",
       "      <th>start_month</th>\n",
       "      <th>start_hour</th>\n",
       "      <th>dayOfWeek</th>\n",
       "      <th>trip_seconds</th>\n",
       "      <th>dayOfYear</th>\n",
       "      <th>price_per_mile</th>\n",
       "      <th>predicted_price_per_mile</th>\n",
       "      <th>prediction</th>\n",
       "    </tr>\n",
       "  </thead>\n",
       "  <tbody>\n",
       "    <tr>\n",
       "      <th>0</th>\n",
       "      <td>0.90</td>\n",
       "      <td>41.857184</td>\n",
       "      <td>-87.620335</td>\n",
       "      <td>41.857184</td>\n",
       "      <td>-87.620335</td>\n",
       "      <td>2.0</td>\n",
       "      <td>11.0</td>\n",
       "      <td>4</td>\n",
       "      <td>180.0</td>\n",
       "      <td>38.0</td>\n",
       "      <td>6.111111</td>\n",
       "      <td>[{'tables': {'prediction_interval': {'start': ...</td>\n",
       "      <td>5.963612</td>\n",
       "    </tr>\n",
       "    <tr>\n",
       "      <th>1</th>\n",
       "      <td>1.90</td>\n",
       "      <td>41.857184</td>\n",
       "      <td>-87.620335</td>\n",
       "      <td>41.878866</td>\n",
       "      <td>-87.625192</td>\n",
       "      <td>6.0</td>\n",
       "      <td>3.0</td>\n",
       "      <td>3</td>\n",
       "      <td>600.0</td>\n",
       "      <td>156.0</td>\n",
       "      <td>4.736842</td>\n",
       "      <td>[{'tables': {'prediction_interval': {'start': ...</td>\n",
       "      <td>4.623542</td>\n",
       "    </tr>\n",
       "    <tr>\n",
       "      <th>2</th>\n",
       "      <td>2.40</td>\n",
       "      <td>41.849247</td>\n",
       "      <td>-87.624135</td>\n",
       "      <td>41.877406</td>\n",
       "      <td>-87.621972</td>\n",
       "      <td>4.0</td>\n",
       "      <td>12.0</td>\n",
       "      <td>4</td>\n",
       "      <td>1111.0</td>\n",
       "      <td>94.0</td>\n",
       "      <td>4.791667</td>\n",
       "      <td>[{'tables': {'prediction_interval': {'start': ...</td>\n",
       "      <td>4.897396</td>\n",
       "    </tr>\n",
       "    <tr>\n",
       "      <th>3</th>\n",
       "      <td>2.42</td>\n",
       "      <td>41.849247</td>\n",
       "      <td>-87.624135</td>\n",
       "      <td>41.877406</td>\n",
       "      <td>-87.621972</td>\n",
       "      <td>5.0</td>\n",
       "      <td>11.0</td>\n",
       "      <td>4</td>\n",
       "      <td>737.0</td>\n",
       "      <td>150.0</td>\n",
       "      <td>4.132231</td>\n",
       "      <td>[{'tables': {'prediction_interval': {'start': ...</td>\n",
       "      <td>4.202617</td>\n",
       "    </tr>\n",
       "    <tr>\n",
       "      <th>4</th>\n",
       "      <td>2.20</td>\n",
       "      <td>41.849247</td>\n",
       "      <td>-87.624135</td>\n",
       "      <td>41.877406</td>\n",
       "      <td>-87.621972</td>\n",
       "      <td>6.0</td>\n",
       "      <td>11.0</td>\n",
       "      <td>2</td>\n",
       "      <td>840.0</td>\n",
       "      <td>169.0</td>\n",
       "      <td>4.545455</td>\n",
       "      <td>[{'tables': {'prediction_interval': {'start': ...</td>\n",
       "      <td>4.664961</td>\n",
       "    </tr>\n",
       "  </tbody>\n",
       "</table>\n",
       "</div>"
      ],
      "text/plain": [
       "   trip_miles  pickup_latitude  pickup_longitude  dropoff_latitude  \\\n",
       "0        0.90        41.857184        -87.620335         41.857184   \n",
       "1        1.90        41.857184        -87.620335         41.878866   \n",
       "2        2.40        41.849247        -87.624135         41.877406   \n",
       "3        2.42        41.849247        -87.624135         41.877406   \n",
       "4        2.20        41.849247        -87.624135         41.877406   \n",
       "\n",
       "   dropoff_longitude  start_month  start_hour dayOfWeek  trip_seconds  \\\n",
       "0         -87.620335          2.0        11.0         4         180.0   \n",
       "1         -87.625192          6.0         3.0         3         600.0   \n",
       "2         -87.621972          4.0        12.0         4        1111.0   \n",
       "3         -87.621972          5.0        11.0         4         737.0   \n",
       "4         -87.621972          6.0        11.0         2         840.0   \n",
       "\n",
       "   dayOfYear  price_per_mile  \\\n",
       "0       38.0        6.111111   \n",
       "1      156.0        4.736842   \n",
       "2       94.0        4.791667   \n",
       "3      150.0        4.132231   \n",
       "4      169.0        4.545455   \n",
       "\n",
       "                            predicted_price_per_mile  prediction  \n",
       "0  [{'tables': {'prediction_interval': {'start': ...    5.963612  \n",
       "1  [{'tables': {'prediction_interval': {'start': ...    4.623542  \n",
       "2  [{'tables': {'prediction_interval': {'start': ...    4.897396  \n",
       "3  [{'tables': {'prediction_interval': {'start': ...    4.202617  \n",
       "4  [{'tables': {'prediction_interval': {'start': ...    4.664961  "
      ]
     },
     "execution_count": 10,
     "metadata": {},
     "output_type": "execute_result"
    }
   ],
   "source": [
    "# apply function to get prediction results from AutoML Tables, then update pd dataframe\n",
    "\n",
    "def prediction(x):\n",
    "    \"\"\"\n",
    "    decode the prediction from the nested table in Bigquery\n",
    "    \"\"\"\n",
    "    return x[0]['tables']['value']\n",
    "\n",
    "prediction = batch_pred['predicted_price_per_mile'].apply(prediction)\n",
    "\n",
    "batch_pred['prediction'] = prediction\n",
    "\n",
    "batch_pred.head()"
   ]
  },
  {
   "cell_type": "code",
   "execution_count": 11,
   "metadata": {},
   "outputs": [
    {
     "data": {
      "text/plain": [
       "count    2421.000000\n",
       "mean        6.507680\n",
       "std         2.110993\n",
       "min         2.732201\n",
       "25%         5.068596\n",
       "50%         6.119946\n",
       "75%         7.453267\n",
       "max        22.148682\n",
       "Name: prediction, dtype: float64"
      ]
     },
     "execution_count": 11,
     "metadata": {},
     "output_type": "execute_result"
    }
   ],
   "source": [
    "batch_pred['prediction'].describe()"
   ]
  },
  {
   "cell_type": "code",
   "execution_count": 12,
   "metadata": {},
   "outputs": [
    {
     "name": "stdout",
     "output_type": "stream",
     "text": [
      "(2421, 13)\n"
     ]
    },
    {
     "data": {
      "text/html": [
       "<div>\n",
       "<style scoped>\n",
       "    .dataframe tbody tr th:only-of-type {\n",
       "        vertical-align: middle;\n",
       "    }\n",
       "\n",
       "    .dataframe tbody tr th {\n",
       "        vertical-align: top;\n",
       "    }\n",
       "\n",
       "    .dataframe thead th {\n",
       "        text-align: right;\n",
       "    }\n",
       "</style>\n",
       "<table border=\"1\" class=\"dataframe\">\n",
       "  <thead>\n",
       "    <tr style=\"text-align: right;\">\n",
       "      <th></th>\n",
       "      <th>trip_miles</th>\n",
       "      <th>pickup_latitude</th>\n",
       "      <th>pickup_longitude</th>\n",
       "      <th>dropoff_latitude</th>\n",
       "      <th>dropoff_longitude</th>\n",
       "      <th>start_month</th>\n",
       "      <th>start_hour</th>\n",
       "      <th>dayOfWeek</th>\n",
       "      <th>trip_seconds</th>\n",
       "      <th>dayOfYear</th>\n",
       "      <th>price_per_mile</th>\n",
       "      <th>predicted_price_per_mile</th>\n",
       "      <th>prediction</th>\n",
       "    </tr>\n",
       "  </thead>\n",
       "  <tbody>\n",
       "    <tr>\n",
       "      <th>0</th>\n",
       "      <td>0.90</td>\n",
       "      <td>41.857184</td>\n",
       "      <td>-87.620335</td>\n",
       "      <td>41.857184</td>\n",
       "      <td>-87.620335</td>\n",
       "      <td>2.0</td>\n",
       "      <td>11.0</td>\n",
       "      <td>4</td>\n",
       "      <td>180.0</td>\n",
       "      <td>38.0</td>\n",
       "      <td>6.111111</td>\n",
       "      <td>[{'tables': {'prediction_interval': {'start': ...</td>\n",
       "      <td>5.963612</td>\n",
       "    </tr>\n",
       "    <tr>\n",
       "      <th>1</th>\n",
       "      <td>1.90</td>\n",
       "      <td>41.857184</td>\n",
       "      <td>-87.620335</td>\n",
       "      <td>41.878866</td>\n",
       "      <td>-87.625192</td>\n",
       "      <td>6.0</td>\n",
       "      <td>3.0</td>\n",
       "      <td>3</td>\n",
       "      <td>600.0</td>\n",
       "      <td>156.0</td>\n",
       "      <td>4.736842</td>\n",
       "      <td>[{'tables': {'prediction_interval': {'start': ...</td>\n",
       "      <td>4.623542</td>\n",
       "    </tr>\n",
       "    <tr>\n",
       "      <th>2</th>\n",
       "      <td>2.40</td>\n",
       "      <td>41.849247</td>\n",
       "      <td>-87.624135</td>\n",
       "      <td>41.877406</td>\n",
       "      <td>-87.621972</td>\n",
       "      <td>4.0</td>\n",
       "      <td>12.0</td>\n",
       "      <td>4</td>\n",
       "      <td>1111.0</td>\n",
       "      <td>94.0</td>\n",
       "      <td>4.791667</td>\n",
       "      <td>[{'tables': {'prediction_interval': {'start': ...</td>\n",
       "      <td>4.897396</td>\n",
       "    </tr>\n",
       "    <tr>\n",
       "      <th>3</th>\n",
       "      <td>2.42</td>\n",
       "      <td>41.849247</td>\n",
       "      <td>-87.624135</td>\n",
       "      <td>41.877406</td>\n",
       "      <td>-87.621972</td>\n",
       "      <td>5.0</td>\n",
       "      <td>11.0</td>\n",
       "      <td>4</td>\n",
       "      <td>737.0</td>\n",
       "      <td>150.0</td>\n",
       "      <td>4.132231</td>\n",
       "      <td>[{'tables': {'prediction_interval': {'start': ...</td>\n",
       "      <td>4.202617</td>\n",
       "    </tr>\n",
       "    <tr>\n",
       "      <th>4</th>\n",
       "      <td>2.20</td>\n",
       "      <td>41.849247</td>\n",
       "      <td>-87.624135</td>\n",
       "      <td>41.877406</td>\n",
       "      <td>-87.621972</td>\n",
       "      <td>6.0</td>\n",
       "      <td>11.0</td>\n",
       "      <td>2</td>\n",
       "      <td>840.0</td>\n",
       "      <td>169.0</td>\n",
       "      <td>4.545455</td>\n",
       "      <td>[{'tables': {'prediction_interval': {'start': ...</td>\n",
       "      <td>4.664961</td>\n",
       "    </tr>\n",
       "  </tbody>\n",
       "</table>\n",
       "</div>"
      ],
      "text/plain": [
       "   trip_miles  pickup_latitude  pickup_longitude  dropoff_latitude  \\\n",
       "0        0.90        41.857184        -87.620335         41.857184   \n",
       "1        1.90        41.857184        -87.620335         41.878866   \n",
       "2        2.40        41.849247        -87.624135         41.877406   \n",
       "3        2.42        41.849247        -87.624135         41.877406   \n",
       "4        2.20        41.849247        -87.624135         41.877406   \n",
       "\n",
       "   dropoff_longitude  start_month  start_hour dayOfWeek  trip_seconds  \\\n",
       "0         -87.620335          2.0        11.0         4         180.0   \n",
       "1         -87.625192          6.0         3.0         3         600.0   \n",
       "2         -87.621972          4.0        12.0         4        1111.0   \n",
       "3         -87.621972          5.0        11.0         4         737.0   \n",
       "4         -87.621972          6.0        11.0         2         840.0   \n",
       "\n",
       "   dayOfYear  price_per_mile  \\\n",
       "0       38.0        6.111111   \n",
       "1      156.0        4.736842   \n",
       "2       94.0        4.791667   \n",
       "3      150.0        4.132231   \n",
       "4      169.0        4.545455   \n",
       "\n",
       "                            predicted_price_per_mile  prediction  \n",
       "0  [{'tables': {'prediction_interval': {'start': ...    5.963612  \n",
       "1  [{'tables': {'prediction_interval': {'start': ...    4.623542  \n",
       "2  [{'tables': {'prediction_interval': {'start': ...    4.897396  \n",
       "3  [{'tables': {'prediction_interval': {'start': ...    4.202617  \n",
       "4  [{'tables': {'prediction_interval': {'start': ...    4.664961  "
      ]
     },
     "execution_count": 12,
     "metadata": {},
     "output_type": "execute_result"
    }
   ],
   "source": [
    "batch_pred = batch_pred.dropna(axis='rows')\n",
    "print(batch_pred.shape) \n",
    "batch_pred.head()"
   ]
  },
  {
   "cell_type": "code",
   "execution_count": 14,
   "metadata": {},
   "outputs": [],
   "source": [
    "batch_pred['AE'] = batch_pred.apply(lambda x: np.abs(x['price_per_mile'] - x['prediction']), axis=1)\n",
    "batch_pred['SE'] = batch_pred.apply(lambda x: np.abs(x['price_per_mile'] - x['prediction'])**2, axis=1)"
   ]
  },
  {
   "cell_type": "code",
   "execution_count": 15,
   "metadata": {},
   "outputs": [
    {
     "data": {
      "text/plain": [
       "count    2421.000000\n",
       "mean        0.172470\n",
       "std         0.213489\n",
       "min         0.000035\n",
       "25%         0.054661\n",
       "50%         0.119179\n",
       "75%         0.220290\n",
       "max         4.396381\n",
       "Name: AE, dtype: float64"
      ]
     },
     "execution_count": 15,
     "metadata": {},
     "output_type": "execute_result"
    }
   ],
   "source": [
    "batch_pred['AE'].describe()"
   ]
  },
  {
   "cell_type": "code",
   "execution_count": 16,
   "metadata": {},
   "outputs": [
    {
     "data": {
      "text/plain": [
       "count    2.421000e+03\n",
       "mean     7.530437e-02\n",
       "std      5.174020e-01\n",
       "min      1.233696e-09\n",
       "25%      2.987866e-03\n",
       "50%      1.420373e-02\n",
       "75%      4.852756e-02\n",
       "max      1.932816e+01\n",
       "Name: SE, dtype: float64"
      ]
     },
     "execution_count": 16,
     "metadata": {},
     "output_type": "execute_result"
    }
   ],
   "source": [
    "batch_pred['SE'].describe()"
   ]
  },
  {
   "cell_type": "code",
   "execution_count": 19,
   "metadata": {},
   "outputs": [
    {
     "name": "stdout",
     "output_type": "stream",
     "text": [
      "MAE is:  0.17246985700697917\n"
     ]
    }
   ],
   "source": [
    "MAE1 = mean_absolute_error(batch_pred['price_per_mile'], batch_pred['prediction'])\n",
    "print('MAE is: ', MAE1)"
   ]
  },
  {
   "cell_type": "code",
   "execution_count": 20,
   "metadata": {},
   "outputs": [
    {
     "data": {
      "text/plain": [
       "<matplotlib.axes._subplots.AxesSubplot at 0x7fb8cfe25a90>"
      ]
     },
     "execution_count": 20,
     "metadata": {},
     "output_type": "execute_result"
    },
    {
     "data": {
      "image/png": "[encoded data removed]",
      "text/plain": [
       "<Figure size 720x504 with 1 Axes>"
      ]
     },
     "metadata": {
      "needs_background": "light"
     },
     "output_type": "display_data"
    }
   ],
   "source": [
    "plt.figure(figsize=(10,7))\n",
    "sns.distplot(batch_pred['AE'])"
   ]
  },
  {
   "cell_type": "code",
   "execution_count": 21,
   "metadata": {},
   "outputs": [
    {
     "data": {
      "text/plain": [
       "count    2.421000e+03\n",
       "mean     7.530437e-02\n",
       "std      5.174020e-01\n",
       "min      1.233696e-09\n",
       "25%      2.987866e-03\n",
       "50%      1.420373e-02\n",
       "75%      4.852756e-02\n",
       "max      1.932816e+01\n",
       "Name: SE, dtype: float64"
      ]
     },
     "execution_count": 21,
     "metadata": {},
     "output_type": "execute_result"
    }
   ],
   "source": [
    "batch_pred['SE'].describe()"
   ]
  },
  {
   "cell_type": "code",
   "execution_count": 22,
   "metadata": {},
   "outputs": [
    {
     "name": "stdout",
     "output_type": "stream",
     "text": [
      "RMSE is:  0.0753043710759436\n"
     ]
    }
   ],
   "source": [
    "RMSE1 = mean_squared_error(batch_pred['price_per_mile'], batch_pred['prediction'])\n",
    "print('RMSE is: ', RMSE1)"
   ]
  },
  {
   "cell_type": "code",
   "execution_count": 23,
   "metadata": {},
   "outputs": [
    {
     "data": {
      "text/plain": [
       "<matplotlib.axes._subplots.AxesSubplot at 0x7fb8cfbba5f8>"
      ]
     },
     "execution_count": 23,
     "metadata": {},
     "output_type": "execute_result"
    },
    {
     "data": {
      "image/png": "[encoded data removed]",
      "text/plain": [
       "<Figure size 720x504 with 1 Axes>"
      ]
     },
     "metadata": {
      "needs_background": "light"
     },
     "output_type": "display_data"
    }
   ],
   "source": [
    "plt.figure(figsize=(10,7))\n",
    "sns.distplot(batch_pred['SE'])"
   ]
  },
  {
   "cell_type": "code",
   "execution_count": 41,
   "metadata": {},
   "outputs": [
    {
     "data": {
      "image/png": "[encoded data removed]",
      "text/plain": [
       "<Figure size 1440x504 with 1 Axes>"
      ]
     },
     "metadata": {
      "needs_background": "light"
     },
     "output_type": "display_data"
    }
   ],
   "source": [
    "# randomly pick 100 predict sample to visualize the difference between actual value and predicted value\n",
    "\n",
    "import random\n",
    "index = []\n",
    "for i in range(100):\n",
    "          r=random.randint(1,len(batch_pred))\n",
    "          if r not in index: index.append(r)\n",
    "\n",
    "plt.figure(figsize=(20,7))\n",
    "plt.gca().set_ylim(top=30)\n",
    "plt.gca().set_ylim(bottom=-2)\n",
    "sns.scatterplot(index, batch_pred.ix[index, 'price_per_mile'], color='black')\n",
    "sns.scatterplot(index, batch_pred.ix[index, 'prediction'], color='red')\n",
    "plt.gca().legend(('actual_price_per_mile','predicted_price_per_mile'))\n",
    "plt.ylabel('fare (US dollars)')\n",
    "plt.show()"
   ]
  },
  {
   "cell_type": "code",
   "execution_count": null,
   "metadata": {},
   "outputs": [],
   "source": []
  }
 ],
 "metadata": {
  "kernelspec": {
   "display_name": "Python 3",
   "language": "python",
   "name": "python3"
  },
  "language_info": {
   "codemirror_mode": {
    "name": "ipython",
    "version": 3
   },
   "file_extension": ".py",
   "mimetype": "text/x-python",
   "name": "python",
   "nbconvert_exporter": "python",
   "pygments_lexer": "ipython3",
   "version": "3.5.3"
  }
 },
 "nbformat": 4,
 "nbformat_minor": 2
}
